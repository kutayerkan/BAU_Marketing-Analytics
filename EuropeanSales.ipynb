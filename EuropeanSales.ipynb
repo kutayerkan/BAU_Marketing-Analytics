{
 "cells": [
  {
   "cell_type": "markdown",
   "metadata": {},
   "source": [
    "# <font color='blue'>European Sales Dataset</font>\n",
    "## <font color='black'>EDA & Linear Regression on Sales per Capita and Computer Sales</font>"
   ]
  },
  {
   "cell_type": "markdown",
   "metadata": {},
   "source": [
    "### Importing Data & Preprocessing\n",
    "\n",
    "We first install the packages we need and set the output figure size:"
   ]
  },
  {
   "cell_type": "code",
   "execution_count": 7,
   "metadata": {},
   "outputs": [],
   "source": [
    "library(tidyverse)\n",
    "library(corrplot)\n",
    "library(psych)\n",
    "library(leaps)"
   ]
  },
  {
   "cell_type": "code",
   "execution_count": 8,
   "metadata": {},
   "outputs": [],
   "source": [
    "options(repr.plot.width=6, repr.plot.height=4.5)"
   ]
  },
  {
   "cell_type": "markdown",
   "metadata": {},
   "source": [
    "We read the data into R. The dataset consists of 21 rows and 7 columns."
   ]
  },
  {
   "cell_type": "code",
   "execution_count": 9,
   "metadata": {},
   "outputs": [
    {
     "data": {
      "text/html": [
       "<table>\n",
       "<thead><tr><th></th><th scope=col>Country</th><th scope=col>Population</th><th scope=col>GDPperHead</th><th scope=col>UnemploymentRate</th><th scope=col>EducationSpending</th><th scope=col>SalesPerCapita</th><th scope=col>ComputerSales</th></tr></thead>\n",
       "<tbody>\n",
       "\t<tr><th scope=row>1</th><td>Austria </td><td> 8.4    </td><td>49.60   </td><td>4.2     </td><td>5.8     </td><td>112     </td><td> 941    </td></tr>\n",
       "\t<tr><th scope=row>10</th><td>Hungary </td><td>10.0    </td><td>15.41   </td><td>7.3     </td><td>5.1     </td><td> 45     </td><td> 449    </td></tr>\n",
       "\t<tr><th scope=row>20</th><td>Turkey  </td><td>75.8    </td><td> 9.94   </td><td>8.6     </td><td>3.7     </td><td> 38     </td><td>2879    </td></tr>\n",
       "\t<tr><th scope=row>19</th><td>Sweden  </td><td> 9.2    </td><td>51.95   </td><td>6.3     </td><td>7.6     </td><td>230     </td><td>2113    </td></tr>\n",
       "\t<tr><th scope=row>15</th><td>Portugal</td><td>10.7    </td><td>22.92   </td><td>6.3     </td><td>5.9     </td><td> 68     </td><td> 729    </td></tr>\n",
       "</tbody>\n",
       "</table>\n"
      ],
      "text/latex": [
       "\\begin{tabular}{r|lllllll}\n",
       "  & Country & Population & GDPperHead & UnemploymentRate & EducationSpending & SalesPerCapita & ComputerSales\\\\\n",
       "\\hline\n",
       "\t1 & Austria  &  8.4     & 49.60    & 4.2      & 5.8      & 112      &  941    \\\\\n",
       "\t10 & Hungary  & 10.0     & 15.41    & 7.3      & 5.1      &  45      &  449    \\\\\n",
       "\t20 & Turkey   & 75.8     &  9.94    & 8.6      & 3.7      &  38      & 2879    \\\\\n",
       "\t19 & Sweden   &  9.2     & 51.95    & 6.3      & 7.6      & 230      & 2113    \\\\\n",
       "\t15 & Portugal & 10.7     & 22.92    & 6.3      & 5.9      &  68      &  729    \\\\\n",
       "\\end{tabular}\n"
      ],
      "text/markdown": [
       "\n",
       "| <!--/--> | Country | Population | GDPperHead | UnemploymentRate | EducationSpending | SalesPerCapita | ComputerSales | \n",
       "|---|---|---|---|---|\n",
       "| 1 | Austria  |  8.4     | 49.60    | 4.2      | 5.8      | 112      |  941     | \n",
       "| 10 | Hungary  | 10.0     | 15.41    | 7.3      | 5.1      |  45      |  449     | \n",
       "| 20 | Turkey   | 75.8     |  9.94    | 8.6      | 3.7      |  38      | 2879     | \n",
       "| 19 | Sweden   |  9.2     | 51.95    | 6.3      | 7.6      | 230      | 2113     | \n",
       "| 15 | Portugal | 10.7     | 22.92    | 6.3      | 5.9      |  68      |  729     | \n",
       "\n",
       "\n"
      ],
      "text/plain": [
       "   Country  Population GDPperHead UnemploymentRate EducationSpending\n",
       "1  Austria   8.4       49.60      4.2              5.8              \n",
       "10 Hungary  10.0       15.41      7.3              5.1              \n",
       "20 Turkey   75.8        9.94      8.6              3.7              \n",
       "19 Sweden    9.2       51.95      6.3              7.6              \n",
       "15 Portugal 10.7       22.92      6.3              5.9              \n",
       "   SalesPerCapita ComputerSales\n",
       "1  112             941         \n",
       "10  45             449         \n",
       "20  38            2879         \n",
       "19 230            2113         \n",
       "15  68             729         "
      ]
     },
     "metadata": {},
     "output_type": "display_data"
    },
    {
     "data": {
      "text/plain": [
       "       Country     Population      GDPperHead    UnemploymentRate\n",
       " Austria   : 1   Min.   : 4.40   Min.   : 6.55   Min.   : 3.6    \n",
       " Belgium   : 1   1st Qu.: 8.40   1st Qu.:20.67   1st Qu.: 6.3    \n",
       " Bulgaria  : 1   Median :10.70   Median :43.54   Median : 7.3    \n",
       " Czech Rep.: 1   Mean   :26.72   Mean   :36.97   Mean   : 8.1    \n",
       " Denmark   : 1   3rd Qu.:44.80   3rd Qu.:51.32   3rd Qu.: 9.9    \n",
       " Finland   : 1   Max.   :82.50   Max.   :64.43   Max.   :14.4    \n",
       " (Other)   :15                                                   \n",
       " EducationSpending SalesPerCapita  ComputerSales \n",
       " Min.   :3.300     Min.   : 20.0   Min.   : 154  \n",
       " 1st Qu.:4.400     1st Qu.: 68.0   1st Qu.: 813  \n",
       " Median :5.000     Median :101.0   Median :1682  \n",
       " Mean   :5.181     Mean   :115.3   Mean   :2493  \n",
       " 3rd Qu.:5.800     3rd Qu.:151.0   3rd Qu.:2879  \n",
       " Max.   :8.400     Max.   :372.0   Max.   :9887  \n",
       "                                                 "
      ]
     },
     "metadata": {},
     "output_type": "display_data"
    }
   ],
   "source": [
    "df_raw = read.csv('EuropeanSales.csv', header=TRUE)\n",
    "\n",
    "df_raw[sample(nrow(df_raw), 5), ]\n",
    "summary(df_raw)"
   ]
  },
  {
   "cell_type": "markdown",
   "metadata": {},
   "source": [
    "It seems like **Country** column does not carry much information other than names of the countries. We check this assumption."
   ]
  },
  {
   "cell_type": "code",
   "execution_count": 10,
   "metadata": {},
   "outputs": [
    {
     "data": {
      "text/html": [
       "TRUE"
      ],
      "text/latex": [
       "TRUE"
      ],
      "text/markdown": [
       "TRUE"
      ],
      "text/plain": [
       "[1] TRUE"
      ]
     },
     "metadata": {},
     "output_type": "display_data"
    }
   ],
   "source": [
    "nrow(df_raw) == length(levels(df_raw$Country))"
   ]
  },
  {
   "cell_type": "markdown",
   "metadata": {},
   "source": [
    "It is correct, this column has as many unique values as the number of rows. We convert **Country** to Row ID (keys) and take a new sample."
   ]
  },
  {
   "cell_type": "code",
   "execution_count": 11,
   "metadata": {},
   "outputs": [
    {
     "data": {
      "text/html": [
       "<table>\n",
       "<thead><tr><th></th><th scope=col>Population</th><th scope=col>GDPperHead</th><th scope=col>UnemploymentRate</th><th scope=col>EducationSpending</th><th scope=col>SalesPerCapita</th><th scope=col>ComputerSales</th></tr></thead>\n",
       "<tbody>\n",
       "\t<tr><th scope=row>Germany</th><td>82.5 </td><td>44.45</td><td>9.1  </td><td>4.6  </td><td> 83  </td><td>6824 </td></tr>\n",
       "\t<tr><th scope=row>Greece</th><td>11.2 </td><td>31.67</td><td>9.9  </td><td>3.9  </td><td> 73  </td><td> 813 </td></tr>\n",
       "\t<tr><th scope=row>Denmark</th><td> 5.5 </td><td>62.12</td><td>5.2  </td><td>8.4  </td><td>170  </td><td> 935 </td></tr>\n",
       "\t<tr><th scope=row>Belgium</th><td>10.5 </td><td>47.09</td><td>8.1  </td><td>5.9  </td><td>160  </td><td>1682 </td></tr>\n",
       "\t<tr><th scope=row>Austria</th><td> 8.4 </td><td>49.60</td><td>4.2  </td><td>5.8  </td><td>112  </td><td> 941 </td></tr>\n",
       "</tbody>\n",
       "</table>\n"
      ],
      "text/latex": [
       "\\begin{tabular}{r|llllll}\n",
       "  & Population & GDPperHead & UnemploymentRate & EducationSpending & SalesPerCapita & ComputerSales\\\\\n",
       "\\hline\n",
       "\tGermany & 82.5  & 44.45 & 9.1   & 4.6   &  83   & 6824 \\\\\n",
       "\tGreece & 11.2  & 31.67 & 9.9   & 3.9   &  73   &  813 \\\\\n",
       "\tDenmark &  5.5  & 62.12 & 5.2   & 8.4   & 170   &  935 \\\\\n",
       "\tBelgium & 10.5  & 47.09 & 8.1   & 5.9   & 160   & 1682 \\\\\n",
       "\tAustria &  8.4  & 49.60 & 4.2   & 5.8   & 112   &  941 \\\\\n",
       "\\end{tabular}\n"
      ],
      "text/markdown": [
       "\n",
       "| <!--/--> | Population | GDPperHead | UnemploymentRate | EducationSpending | SalesPerCapita | ComputerSales | \n",
       "|---|---|---|---|---|\n",
       "| Germany | 82.5  | 44.45 | 9.1   | 4.6   |  83   | 6824  | \n",
       "| Greece | 11.2  | 31.67 | 9.9   | 3.9   |  73   |  813  | \n",
       "| Denmark |  5.5  | 62.12 | 5.2   | 8.4   | 170   |  935  | \n",
       "| Belgium | 10.5  | 47.09 | 8.1   | 5.9   | 160   | 1682  | \n",
       "| Austria |  8.4  | 49.60 | 4.2   | 5.8   | 112   |  941  | \n",
       "\n",
       "\n"
      ],
      "text/plain": [
       "        Population GDPperHead UnemploymentRate EducationSpending SalesPerCapita\n",
       "Germany 82.5       44.45      9.1              4.6                83           \n",
       "Greece  11.2       31.67      9.9              3.9                73           \n",
       "Denmark  5.5       62.12      5.2              8.4               170           \n",
       "Belgium 10.5       47.09      8.1              5.9               160           \n",
       "Austria  8.4       49.60      4.2              5.8               112           \n",
       "        ComputerSales\n",
       "Germany 6824         \n",
       "Greece   813         \n",
       "Denmark  935         \n",
       "Belgium 1682         \n",
       "Austria  941         "
      ]
     },
     "metadata": {},
     "output_type": "display_data"
    }
   ],
   "source": [
    "df = df_raw %>% remove_rownames %>% column_to_rownames(var=\"Country\")\n",
    "df[sample(nrow(df), 5), ]"
   ]
  },
  {
   "cell_type": "markdown",
   "metadata": {},
   "source": [
    "### Exploratory Data Analysis\n",
    "\n",
    "We create a boxplot for all of our features using **facet_wrap**. It seems like there are 4 outliers."
   ]
  },
  {
   "cell_type": "code",
   "execution_count": 12,
   "metadata": {},
   "outputs": [
    {
     "data": {},
     "metadata": {},
     "output_type": "display_data"
    },
    {
     "data": {
      "image/png": "[encoded data removed]",
      "text/plain": [
       "plot without title"
      ]
     },
     "metadata": {},
     "output_type": "display_data"
    }
   ],
   "source": [
    "ggplot(data = gather(df), aes(x=key, y=value)) + \n",
    "    geom_boxplot() + \n",
    "    facet_wrap( ~key, scales=\"free\")"
   ]
  },
  {
   "cell_type": "markdown",
   "metadata": {},
   "source": [
    "We check what these outliers are using **filter** function."
   ]
  },
  {
   "cell_type": "code",
   "execution_count": 13,
   "metadata": {},
   "outputs": [
    {
     "data": {
      "text/html": [
       "<table>\n",
       "<thead><tr><th scope=col>Country</th><th scope=col>Population</th><th scope=col>GDPperHead</th><th scope=col>UnemploymentRate</th><th scope=col>EducationSpending</th><th scope=col>SalesPerCapita</th><th scope=col>ComputerSales</th></tr></thead>\n",
       "<tbody>\n",
       "\t<tr><td>Denmark</td><td> 5.5   </td><td>62.12  </td><td>5.2    </td><td>8.4    </td><td>170    </td><td> 935   </td></tr>\n",
       "\t<tr><td>Finland</td><td> 5.3   </td><td>51.32  </td><td>9.9    </td><td>6.3    </td><td>372    </td><td>1971   </td></tr>\n",
       "\t<tr><td>Germany</td><td>82.5   </td><td>44.45  </td><td>9.1    </td><td>4.6    </td><td> 83    </td><td>6824   </td></tr>\n",
       "\t<tr><td>UK     </td><td>61.0   </td><td>43.54  </td><td>5.9    </td><td>4.8    </td><td>162    </td><td>9887   </td></tr>\n",
       "</tbody>\n",
       "</table>\n"
      ],
      "text/latex": [
       "\\begin{tabular}{r|lllllll}\n",
       " Country & Population & GDPperHead & UnemploymentRate & EducationSpending & SalesPerCapita & ComputerSales\\\\\n",
       "\\hline\n",
       "\t Denmark &  5.5    & 62.12   & 5.2     & 8.4     & 170     &  935   \\\\\n",
       "\t Finland &  5.3    & 51.32   & 9.9     & 6.3     & 372     & 1971   \\\\\n",
       "\t Germany & 82.5    & 44.45   & 9.1     & 4.6     &  83     & 6824   \\\\\n",
       "\t UK      & 61.0    & 43.54   & 5.9     & 4.8     & 162     & 9887   \\\\\n",
       "\\end{tabular}\n"
      ],
      "text/markdown": [
       "\n",
       "Country | Population | GDPperHead | UnemploymentRate | EducationSpending | SalesPerCapita | ComputerSales | \n",
       "|---|---|---|---|\n",
       "| Denmark |  5.5    | 62.12   | 5.2     | 8.4     | 170     |  935    | \n",
       "| Finland |  5.3    | 51.32   | 9.9     | 6.3     | 372     | 1971    | \n",
       "| Germany | 82.5    | 44.45   | 9.1     | 4.6     |  83     | 6824    | \n",
       "| UK      | 61.0    | 43.54   | 5.9     | 4.8     | 162     | 9887    | \n",
       "\n",
       "\n"
      ],
      "text/plain": [
       "  Country Population GDPperHead UnemploymentRate EducationSpending\n",
       "1 Denmark  5.5       62.12      5.2              8.4              \n",
       "2 Finland  5.3       51.32      9.9              6.3              \n",
       "3 Germany 82.5       44.45      9.1              4.6              \n",
       "4 UK      61.0       43.54      5.9              4.8              \n",
       "  SalesPerCapita ComputerSales\n",
       "1 170             935         \n",
       "2 372            1971         \n",
       "3  83            6824         \n",
       "4 162            9887         "
      ]
     },
     "metadata": {},
     "output_type": "display_data"
    }
   ],
   "source": [
    "df_raw %>% filter(ComputerSales > 6500 | EducationSpending > 8 | SalesPerCapita > 300)"
   ]
  },
  {
   "cell_type": "markdown",
   "metadata": {},
   "source": [
    "These outliers are not errors, they are actual countries. While it is tempting to remove this data points, they will not be removed. We already have too few data points (21) and these 4 data points carry relevant information.\n",
    "\n",
    "Next, we create a correlation matrix for our variables."
   ]
  },
  {
   "cell_type": "code",
   "execution_count": 68,
   "metadata": {},
   "outputs": [
    {
     "data": {
      "image/png": "[encoded data removed]",
      "text/plain": [
       "Plot with title \"\""
      ]
     },
     "metadata": {},
     "output_type": "display_data"
    }
   ],
   "source": [
    "corrs = cor(df, method = \"pearson\")\n",
    "corrplot(corrs, type = \"full\", method=\"ellipse\", tl.col=\"black\", tl.srt = 30, addCoef.col = \"black\")"
   ]
  },
  {
   "cell_type": "markdown",
   "metadata": {},
   "source": [
    "We will have two target variables, **SalesPerCapita** and **ComputerSales**.\n",
    "\n",
    "**SalesPerCapita** seems to have a relatively high correlation with **GDPperHead** and **EducationSpending**.\n",
    "\n",
    "**ComputerSales** only has a correlation with **Population**. Its relationship with other variables are not strong.\n",
    "\n",
    "We should also check the scatterplots for variable pairs. It would take too much space to do and too much time to inspect when it is done 1-by-1. Nevertheless below is the relevant code for that. We opt for using **pairs.panels**, a strong function from **psych** package."
   ]
  },
  {
   "cell_type": "code",
   "execution_count": 15,
   "metadata": {},
   "outputs": [],
   "source": [
    "#ggplot(data = df, aes(x = Population, y = ComputerSales)) +\n",
    "#    geom_point() +\n",
    "#    geom_smooth(method='lm',formula=y~x)"
   ]
  },
  {
   "cell_type": "code",
   "execution_count": 73,
   "metadata": {},
   "outputs": [
    {
     "data": {
      "image/png": "[encoded data removed]",
      "text/plain": [
       "plot without title"
      ]
     },
     "metadata": {},
     "output_type": "display_data"
    }
   ],
   "source": [
    "pairs.panels(df, ellipses=FALSE, hist.col=\"red\", lm=TRUE)"
   ]
  },
  {
   "cell_type": "markdown",
   "metadata": {},
   "source": [
    "The relationships we deduced using coefficients of correlation still hold. In fact, if not for the outliers, correlations of **SalesPerCapita** ~ **GDPperHead** and **SalesPerCapita** ~ **EducationSpending** would be even higher."
   ]
  },
  {
   "cell_type": "markdown",
   "metadata": {},
   "source": [
    "### Linear Regression for SalesPerCapita and ComputerSales\n",
    "\n",
    "The method for choosing the correct features in the linear regression is not a deterministic one. While powerful, stepwise forward or backward analysis might cause us to miss some subsets of features that would otherwise offer strong models.\n",
    "\n",
    "For this reason, **leaps** function was used to return which subsets of features should be checked for each subset size. Afterwards, linear models for all of these subsets were created."
   ]
  },
  {
   "cell_type": "code",
   "execution_count": 70,
   "metadata": {},
   "outputs": [
    {
     "data": {
      "text/plain": [
       "Subset selection object\n",
       "Call: regsubsets.formula(SalesPerCapita ~ Population + GDPperHead + \n",
       "    UnemploymentRate + EducationSpending + ComputerSales, data = df)\n",
       "5 Variables  (and intercept)\n",
       "                  Forced in Forced out\n",
       "Population            FALSE      FALSE\n",
       "GDPperHead            FALSE      FALSE\n",
       "UnemploymentRate      FALSE      FALSE\n",
       "EducationSpending     FALSE      FALSE\n",
       "ComputerSales         FALSE      FALSE\n",
       "1 subsets of each size up to 5\n",
       "Selection Algorithm: exhaustive\n",
       "         Population GDPperHead UnemploymentRate EducationSpending ComputerSales\n",
       "1  ( 1 ) \" \"        \"*\"        \" \"              \" \"               \" \"          \n",
       "2  ( 1 ) \" \"        \"*\"        \" \"              \"*\"               \" \"          \n",
       "3  ( 1 ) \"*\"        \"*\"        \" \"              \" \"               \"*\"          \n",
       "4  ( 1 ) \"*\"        \"*\"        \" \"              \"*\"               \"*\"          \n",
       "5  ( 1 ) \"*\"        \"*\"        \"*\"              \"*\"               \"*\"          "
      ]
     },
     "metadata": {},
     "output_type": "display_data"
    }
   ],
   "source": [
    "leaps_SPC = regsubsets(SalesPerCapita ~ Population + GDPperHead + UnemploymentRate + EducationSpending + ComputerSales, data = df)\n",
    "summary(leaps_SPC)"
   ]
  },
  {
   "cell_type": "code",
   "execution_count": 18,
   "metadata": {},
   "outputs": [
    {
     "data": {
      "text/plain": [
       "\n",
       "Call:\n",
       "lm(formula = SalesPerCapita ~ Population + GDPperHead + UnemploymentRate + \n",
       "    EducationSpending + ComputerSales, data = df)\n",
       "\n",
       "Residuals:\n",
       "    Min      1Q  Median      3Q     Max \n",
       "-45.918 -25.813 -13.098   2.198 172.776 \n",
       "\n",
       "Coefficients:\n",
       "                    Estimate Std. Error t value Pr(>|t|)  \n",
       "(Intercept)       -69.012454  79.194394  -0.871   0.3973  \n",
       "Population         -1.782031   0.963337  -1.850   0.0841 .\n",
       "GDPperHead          1.776939   1.011649   1.756   0.0994 .\n",
       "UnemploymentRate    4.856949   4.863346   0.999   0.3338  \n",
       "EducationSpending  17.266407  12.612351   1.369   0.1911  \n",
       "ComputerSales       0.015031   0.009943   1.512   0.1514  \n",
       "---\n",
       "Signif. codes:  0 '***' 0.001 '**' 0.01 '*' 0.05 '.' 0.1 ' ' 1\n",
       "\n",
       "Residual standard error: 56.09 on 15 degrees of freedom\n",
       "Multiple R-squared:  0.6216,\tAdjusted R-squared:  0.4955 \n",
       "F-statistic: 4.928 on 5 and 15 DF,  p-value: 0.007235\n"
      ]
     },
     "metadata": {},
     "output_type": "display_data"
    },
    {
     "data": {
      "text/plain": [
       "\n",
       "Call:\n",
       "lm(formula = SalesPerCapita ~ Population + GDPperHead + EducationSpending + \n",
       "    ComputerSales, data = df)\n",
       "\n",
       "Residuals:\n",
       "    Min      1Q  Median      3Q     Max \n",
       "-47.663 -20.079 -12.263   3.392 188.984 \n",
       "\n",
       "Coefficients:\n",
       "                    Estimate Std. Error t value Pr(>|t|)  \n",
       "(Intercept)       -20.076775  62.210155  -0.323   0.7511  \n",
       "Population         -1.728230   0.961751  -1.797   0.0912 .\n",
       "GDPperHead          1.341203   0.912651   1.470   0.1611  \n",
       "EducationSpending  17.720604  12.603113   1.406   0.1788  \n",
       "ComputerSales       0.016125   0.009881   1.632   0.1222  \n",
       "---\n",
       "Signif. codes:  0 '***' 0.001 '**' 0.01 '*' 0.05 '.' 0.1 ' ' 1\n",
       "\n",
       "Residual standard error: 56.09 on 16 degrees of freedom\n",
       "Multiple R-squared:  0.5964,\tAdjusted R-squared:  0.4955 \n",
       "F-statistic: 5.912 on 4 and 16 DF,  p-value: 0.00406\n"
      ]
     },
     "metadata": {},
     "output_type": "display_data"
    },
    {
     "data": {
      "text/plain": [
       "\n",
       "Call:\n",
       "lm(formula = SalesPerCapita ~ Population + GDPperHead + ComputerSales, \n",
       "    data = df)\n",
       "\n",
       "Residuals:\n",
       "    Min      1Q  Median      3Q     Max \n",
       "-42.239 -30.548 -12.366   6.544 195.112 \n",
       "\n",
       "Coefficients:\n",
       "              Estimate Std. Error t value Pr(>|t|)  \n",
       "(Intercept)   52.38500   35.83227   1.462   0.1620  \n",
       "Population    -1.95785    0.97464  -2.009   0.0607 .\n",
       "GDPperHead     1.98043    0.81378   2.434   0.0263 *\n",
       "ComputerSales  0.01687    0.01015   1.662   0.1148  \n",
       "---\n",
       "Signif. codes:  0 '***' 0.001 '**' 0.01 '*' 0.05 '.' 0.1 ' ' 1\n",
       "\n",
       "Residual standard error: 57.68 on 17 degrees of freedom\n",
       "Multiple R-squared:  0.5466,\tAdjusted R-squared:  0.4666 \n",
       "F-statistic: 6.831 on 3 and 17 DF,  p-value: 0.003181\n"
      ]
     },
     "metadata": {},
     "output_type": "display_data"
    },
    {
     "data": {
      "text/plain": [
       "\n",
       "Call:\n",
       "lm(formula = SalesPerCapita ~ GDPperHead + EducationSpending, \n",
       "    data = df)\n",
       "\n",
       "Residuals:\n",
       "    Min      1Q  Median      3Q     Max \n",
       "-62.579 -34.667  -4.874  10.558 204.949 \n",
       "\n",
       "Coefficients:\n",
       "                  Estimate Std. Error t value Pr(>|t|)  \n",
       "(Intercept)       -66.5294    54.8485  -1.213   0.2408  \n",
       "GDPperHead          1.9555     0.8608   2.272   0.0356 *\n",
       "EducationSpending  21.1470    12.6445   1.672   0.1117  \n",
       "---\n",
       "Signif. codes:  0 '***' 0.001 '**' 0.01 '*' 0.05 '.' 0.1 ' ' 1\n",
       "\n",
       "Residual standard error: 58.03 on 18 degrees of freedom\n",
       "Multiple R-squared:  0.5141,\tAdjusted R-squared:  0.4601 \n",
       "F-statistic: 9.522 on 2 and 18 DF,  p-value: 0.00151\n"
      ]
     },
     "metadata": {},
     "output_type": "display_data"
    },
    {
     "data": {
      "text/plain": [
       "\n",
       "Call:\n",
       "lm(formula = SalesPerCapita ~ GDPperHead, data = df)\n",
       "\n",
       "Residuals:\n",
       "    Min      1Q  Median      3Q     Max \n",
       "-53.584 -38.731  -9.879  16.306 216.447 \n",
       "\n",
       "Coefficients:\n",
       "            Estimate Std. Error t value Pr(>|t|)   \n",
       "(Intercept)  11.6761    29.9902   0.389  0.70136   \n",
       "GDPperHead    2.8035     0.7277   3.853  0.00107 **\n",
       "---\n",
       "Signif. codes:  0 '***' 0.001 '**' 0.01 '*' 0.05 '.' 0.1 ' ' 1\n",
       "\n",
       "Residual standard error: 60.71 on 19 degrees of freedom\n",
       "Multiple R-squared:  0.4386,\tAdjusted R-squared:  0.409 \n",
       "F-statistic: 14.84 on 1 and 19 DF,  p-value: 0.001073\n"
      ]
     },
     "metadata": {},
     "output_type": "display_data"
    }
   ],
   "source": [
    "fit1 <- lm(SalesPerCapita ~ Population + GDPperHead + UnemploymentRate + EducationSpending + ComputerSales, data = df)\n",
    "fit2 <- lm(SalesPerCapita ~ Population + GDPperHead + EducationSpending + ComputerSales, data = df)\n",
    "fit3 <- lm(SalesPerCapita ~ Population + GDPperHead + ComputerSales, data = df)\n",
    "fit4 <- lm(SalesPerCapita ~ GDPperHead + EducationSpending, data = df)\n",
    "fit5 <- lm(SalesPerCapita ~ GDPperHead, data = df)\n",
    "\n",
    "summary(fit1)\n",
    "summary(fit2)\n",
    "summary(fit3)\n",
    "summary(fit4)\n",
    "summary(fit5)"
   ]
  },
  {
   "cell_type": "markdown",
   "metadata": {},
   "source": [
    "Best model in terms of Adjusted R-squared yields 0.4955, but it is basically a kitchen sink model with features that don't show strong correlation with the target feature. Also, t-values are not significant in this model.\n",
    "\n",
    "Meanwhile, using only GDPperHead and EducationSpending still yields and Adjusted R-squared of 0.4601, and features' t-values are more significant. The model of **SalesPerCapita ~ GDPperHead + EducationSpending** is selected.\n",
    "\n",
    "Same procedure is applied for the target variable of **ComputerSales**."
   ]
  },
  {
   "cell_type": "code",
   "execution_count": 19,
   "metadata": {},
   "outputs": [
    {
     "data": {
      "text/plain": [
       "Subset selection object\n",
       "Call: regsubsets.formula(ComputerSales ~ Population + GDPperHead + \n",
       "    UnemploymentRate + EducationSpending + SalesPerCapita, data = df)\n",
       "5 Variables  (and intercept)\n",
       "                  Forced in Forced out\n",
       "Population            FALSE      FALSE\n",
       "GDPperHead            FALSE      FALSE\n",
       "UnemploymentRate      FALSE      FALSE\n",
       "EducationSpending     FALSE      FALSE\n",
       "SalesPerCapita        FALSE      FALSE\n",
       "1 subsets of each size up to 5\n",
       "Selection Algorithm: exhaustive\n",
       "         Population GDPperHead UnemploymentRate EducationSpending\n",
       "1  ( 1 ) \"*\"        \" \"        \" \"              \" \"              \n",
       "2  ( 1 ) \"*\"        \" \"        \" \"              \" \"              \n",
       "3  ( 1 ) \"*\"        \"*\"        \" \"              \" \"              \n",
       "4  ( 1 ) \"*\"        \"*\"        \" \"              \"*\"              \n",
       "5  ( 1 ) \"*\"        \"*\"        \"*\"              \"*\"              \n",
       "         SalesPerCapita\n",
       "1  ( 1 ) \" \"           \n",
       "2  ( 1 ) \"*\"           \n",
       "3  ( 1 ) \"*\"           \n",
       "4  ( 1 ) \"*\"           \n",
       "5  ( 1 ) \"*\"           "
      ]
     },
     "metadata": {},
     "output_type": "display_data"
    }
   ],
   "source": [
    "leaps_CS = regsubsets(ComputerSales ~ Population + GDPperHead + UnemploymentRate + EducationSpending + SalesPerCapita, data = df)\n",
    "summary(leaps_CS)"
   ]
  },
  {
   "cell_type": "code",
   "execution_count": 20,
   "metadata": {},
   "outputs": [
    {
     "data": {
      "text/plain": [
       "\n",
       "Call:\n",
       "lm(formula = ComputerSales ~ Population + GDPperHead + UnemploymentRate + \n",
       "    EducationSpending + SalesPerCapita, data = df)\n",
       "\n",
       "Residuals:\n",
       "    Min      1Q  Median      3Q     Max \n",
       "-2746.6  -417.9    52.3   409.9  3857.8 \n",
       "\n",
       "Coefficients:\n",
       "                   Estimate Std. Error t value Pr(>|t|)    \n",
       "(Intercept)       -1134.221   1941.735  -0.584    0.568    \n",
       "Population           86.326     13.045   6.618 8.19e-06 ***\n",
       "GDPperHead           21.099     26.314   0.802    0.435    \n",
       "UnemploymentRate      4.013    121.494   0.033    0.974    \n",
       "EducationSpending   -97.871    322.618  -0.303    0.766    \n",
       "SalesPerCapita        8.797      5.819   1.512    0.151    \n",
       "---\n",
       "Signif. codes:  0 '***' 0.001 '**' 0.01 '*' 0.05 '.' 0.1 ' ' 1\n",
       "\n",
       "Residual standard error: 1357 on 15 degrees of freedom\n",
       "Multiple R-squared:  0.779,\tAdjusted R-squared:  0.7053 \n",
       "F-statistic: 10.58 on 5 and 15 DF,  p-value: 0.0001701\n"
      ]
     },
     "metadata": {},
     "output_type": "display_data"
    },
    {
     "data": {
      "text/plain": [
       "\n",
       "Call:\n",
       "lm(formula = ComputerSales ~ Population + GDPperHead + EducationSpending + \n",
       "    SalesPerCapita, data = df)\n",
       "\n",
       "Residuals:\n",
       "    Min      1Q  Median      3Q     Max \n",
       "-2759.8  -417.1    49.2   401.8  3844.3 \n",
       "\n",
       "Coefficients:\n",
       "                   Estimate Std. Error t value Pr(>|t|)    \n",
       "(Intercept)       -1092.839   1436.299  -0.761    0.458    \n",
       "Population           86.465     11.948   7.237 1.99e-06 ***\n",
       "GDPperHead           20.671     22.183   0.932    0.365    \n",
       "EducationSpending   -98.415    311.977  -0.315    0.756    \n",
       "SalesPerCapita        8.849      5.423   1.632    0.122    \n",
       "---\n",
       "Signif. codes:  0 '***' 0.001 '**' 0.01 '*' 0.05 '.' 0.1 ' ' 1\n",
       "\n",
       "Residual standard error: 1314 on 16 degrees of freedom\n",
       "Multiple R-squared:  0.779,\tAdjusted R-squared:  0.7237 \n",
       "F-statistic:  14.1 on 4 and 16 DF,  p-value: 4.117e-05\n"
      ]
     },
     "metadata": {},
     "output_type": "display_data"
    },
    {
     "data": {
      "text/plain": [
       "\n",
       "Call:\n",
       "lm(formula = ComputerSales ~ Population + GDPperHead + SalesPerCapita, \n",
       "    data = df)\n",
       "\n",
       "Residuals:\n",
       "    Min      1Q  Median      3Q     Max \n",
       "-2747.9  -490.8    45.2   393.3  3901.4 \n",
       "\n",
       "Coefficients:\n",
       "                Estimate Std. Error t value Pr(>|t|)    \n",
       "(Intercept)    -1472.377    763.420  -1.929   0.0706 .  \n",
       "Population        87.083     11.470   7.592 7.39e-07 ***\n",
       "GDPperHead        18.445     20.465   0.901   0.3800    \n",
       "SalesPerCapita     8.289      4.987   1.662   0.1148    \n",
       "---\n",
       "Signif. codes:  0 '***' 0.001 '**' 0.01 '*' 0.05 '.' 0.1 ' ' 1\n",
       "\n",
       "Residual standard error: 1279 on 17 degrees of freedom\n",
       "Multiple R-squared:  0.7776,\tAdjusted R-squared:  0.7384 \n",
       "F-statistic: 19.81 on 3 and 17 DF,  p-value: 8.665e-06\n"
      ]
     },
     "metadata": {},
     "output_type": "display_data"
    },
    {
     "data": {
      "text/plain": [
       "\n",
       "Call:\n",
       "lm(formula = ComputerSales ~ Population + SalesPerCapita, data = df)\n",
       "\n",
       "Residuals:\n",
       "    Min      1Q  Median      3Q     Max \n",
       "-3036.7  -181.7    87.2   206.2  3875.3 \n",
       "\n",
       "Coefficients:\n",
       "                Estimate Std. Error t value Pr(>|t|)    \n",
       "(Intercept)    -1135.517    662.187  -1.715  0.10355    \n",
       "Population        87.407     11.405   7.664 4.49e-07 ***\n",
       "SalesPerCapita    11.207      3.773   2.970  0.00821 ** \n",
       "---\n",
       "Signif. codes:  0 '***' 0.001 '**' 0.01 '*' 0.05 '.' 0.1 ' ' 1\n",
       "\n",
       "Residual standard error: 1272 on 18 degrees of freedom\n",
       "Multiple R-squared:  0.767,\tAdjusted R-squared:  0.7411 \n",
       "F-statistic: 29.63 on 2 and 18 DF,  p-value: 2.025e-06\n"
      ]
     },
     "metadata": {},
     "output_type": "display_data"
    },
    {
     "data": {
      "text/plain": [
       "\n",
       "Call:\n",
       "lm(formula = ComputerSales ~ Population, data = df)\n",
       "\n",
       "Residuals:\n",
       "    Min      1Q  Median      3Q     Max \n",
       "-3407.4  -525.2  -135.4   466.5  4744.6 \n",
       "\n",
       "Coefficients:\n",
       "            Estimate Std. Error t value Pr(>|t|)    \n",
       "(Intercept)   427.05     477.70   0.894    0.383    \n",
       "Population     77.30      12.93   5.977 9.43e-06 ***\n",
       "---\n",
       "Signif. codes:  0 '***' 0.001 '**' 0.01 '*' 0.05 '.' 0.1 ' ' 1\n",
       "\n",
       "Residual standard error: 1511 on 19 degrees of freedom\n",
       "Multiple R-squared:  0.6528,\tAdjusted R-squared:  0.6345 \n",
       "F-statistic: 35.73 on 1 and 19 DF,  p-value: 9.426e-06\n"
      ]
     },
     "metadata": {},
     "output_type": "display_data"
    }
   ],
   "source": [
    "fit1 <- lm(ComputerSales ~ Population + GDPperHead + UnemploymentRate + EducationSpending + SalesPerCapita, data = df)\n",
    "fit2 <- lm(ComputerSales ~ Population + GDPperHead + EducationSpending + SalesPerCapita, data = df)\n",
    "fit3 <- lm(ComputerSales ~ Population + GDPperHead + SalesPerCapita, data = df)\n",
    "fit4 <- lm(ComputerSales ~ Population + SalesPerCapita, data = df)\n",
    "fit5 <- lm(ComputerSales ~ Population, data = df)\n",
    "\n",
    "summary(fit1)\n",
    "summary(fit2)\n",
    "summary(fit3)\n",
    "summary(fit4)\n",
    "summary(fit5)"
   ]
  },
  {
   "cell_type": "markdown",
   "metadata": {},
   "source": [
    "Until we have only 2 features, R-squared almost doesn't change, and we see that Adjusted R-squared increases. This is an easier decision, which is supported by the strong correlation we have already seen. Selected model is **ComputerSales ~ Population + SalesPerCapita**."
   ]
  },
  {
   "cell_type": "markdown",
   "metadata": {},
   "source": [
    "### References\n",
    "<br>[rdocumentation.org/packages/ggplot2/versions/3.1.0/topics/facet_wrap](https://www.rdocumentation.org/packages/ggplot2/versions/3.1.0/topics/facet_wrap)</br>\n",
    "<br>[cran.r-project.org/web/packages/corrplot/vignettes/corrplot-intro.html](https://cran.r-project.org/web/packages/corrplot/vignettes/corrplot-intro.html)</br>\n",
    "<br>[rdocumentation.org/packages/psych/versions/1.8.12/topics/pairs.panels](https://www.rdocumentation.org/packages/psych/versions/1.8.12/topics/pairs.panels)</br>\n",
    "<br>[statmethods.net/stats/regression.html](https://www.statmethods.net/stats/regression.html)</br>"
   ]
  }
 ],
 "metadata": {
  "kernelspec": {
   "display_name": "R",
   "language": "R",
   "name": "ir"
  }
 },
 "nbformat": 4,
 "nbformat_minor": 2
}
